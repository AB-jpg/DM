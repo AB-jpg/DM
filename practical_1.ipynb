{
 "cells": [
  {
   "cell_type": "code",
   "execution_count": 16,
   "metadata": {},
   "outputs": [
    {
     "name": "stdout",
     "output_type": "stream",
     "text": [
      "<class 'pandas.core.frame.DataFrame'>\n",
      "RangeIndex: 34 entries, 0 to 33\n",
      "Data columns (total 85 columns):\n",
      "Code                                                                                                33 non-null object\n",
      "New code                                                                                            33 non-null object\n",
      "Area name                                                                                           33 non-null object\n",
      "Inner/ Outer London                                                                                 33 non-null object\n",
      "GLA Population Estimate 2017                                                                        33 non-null float64\n",
      "GLA Household Estimate 2017                                                                         33 non-null float64\n",
      "Inland Area (Hectares)                                                                              33 non-null object\n",
      "Population density (per hectare) 2017                                                               33 non-null float64\n",
      "Average Age, 2017                                                                                   33 non-null float64\n",
      "Proportion of population aged 0-15, 2015                                                            33 non-null float64\n",
      "Proportion of population of working-age, 2015                                                       33 non-null float64\n",
      "Proportion of population aged 65 and over, 2015                                                     33 non-null float64\n",
      "Net internal migration (2015)                                                                       33 non-null float64\n",
      "Net international migration (2015)                                                                  33 non-null float64\n",
      "Net natural change (2015)                                                                           33 non-null float64\n",
      "% of resident population born abroad (2015)                                                         33 non-null object\n",
      "Largest migrant population by country of birth (2011)                                               33 non-null object\n",
      "% of largest migrant population (2011)                                                              33 non-null float64\n",
      "Second largest migrant population by country of birth (2011)                                        33 non-null object\n",
      "% of second largest migrant population (2011)                                                       33 non-null float64\n",
      "Third largest migrant population by country of birth (2011)                                         33 non-null object\n",
      "% of third largest migrant population (2011)                                                        33 non-null float64\n",
      "% of population from BAME groups (2016)                                                             33 non-null float64\n",
      "% people aged 3+ whose main language is not English (2011 Census)                                   33 non-null float64\n",
      "Overseas nationals entering the UK (NINo), (2015/16)                                                33 non-null object\n",
      "New migrant (NINo) rates, (2015/16)                                                                 33 non-null float64\n",
      "Largest migrant population arrived during 2015/16                                                   33 non-null object\n",
      "Second largest migrant population arrived during 2015/16                                            33 non-null object\n",
      "Third largest migrant population arrived during 2015/16                                             33 non-null object\n",
      "Employment rate (%) (2015)                                                                          33 non-null float64\n",
      "Male employment rate (2015)                                                                         33 non-null object\n",
      "Female employment rate (2015)                                                                       33 non-null object\n",
      "Unemployment rate (2015)                                                                            33 non-null object\n",
      "Youth Unemployment (claimant) rate 18-24 (Dec-15)                                                   33 non-null float64\n",
      "Proportion of 16-18 year olds who are NEET (%) (2014)                                               33 non-null object\n",
      "Proportion of the working-age population who claim out-of-work benefits (%) (May-2016)              33 non-null float64\n",
      "% working-age with a disability (2015)                                                              33 non-null object\n",
      "Proportion of working age people with no qualifications (%) 2015                                    33 non-null object\n",
      "Proportion of working age with degree or equivalent and above (%) 2015                              33 non-null object\n",
      "Gross Annual Pay, (2016)                                                                            33 non-null object\n",
      "Gross Annual Pay - Male (2016)                                                                      33 non-null object\n",
      "Gross Annual Pay - Female (2016)                                                                    33 non-null object\n",
      "Modelled Household median income estimates 2012/13                                                  33 non-null object\n",
      "% adults that volunteered in past 12 months (2010/11 to 2012/13)                                    33 non-null object\n",
      "Number of jobs by workplace (2014)                                                                  33 non-null float64\n",
      "% of employment that is in public sector (2014)                                                     33 non-null float64\n",
      "Jobs Density, 2015                                                                                  33 non-null float64\n",
      "Number of active businesses, 2015                                                                   33 non-null float64\n",
      "Two-year business survival rates (started in 2013)                                                  33 non-null float64\n",
      "Crime rates per thousand population 2014/15                                                         33 non-null object\n",
      "Fires per thousand population (2014)                                                                33 non-null float64\n",
      "Ambulance incidents per hundred population (2014)                                                   33 non-null object\n",
      "Median House Price, 2015                                                                            33 non-null float64\n",
      "Average Band D Council Tax charge (£), 2015/16                                                      33 non-null float64\n",
      "New Homes (net) 2015/16 (provisional)                                                               33 non-null float64\n",
      "Homes Owned outright, (2014) %                                                                      33 non-null object\n",
      "Being bought with mortgage or loan, (2014) %                                                        33 non-null object\n",
      "Rented from Local Authority or Housing Association, (2014) %                                        33 non-null object\n",
      "Rented from Private landlord, (2014) %                                                              33 non-null object\n",
      "% of area that is Greenspace, 2005                                                                  33 non-null float64\n",
      "Total carbon emissions (2014)                                                                       33 non-null float64\n",
      "Household Waste Recycling Rate, 2014/15                                                             33 non-null float64\n",
      "Number of cars, (2011 Census)                                                                       33 non-null float64\n",
      "Number of cars per household, (2011 Census)                                                         33 non-null float64\n",
      "% of adults who cycle at least once per month, 2014/15                                              33 non-null float64\n",
      "Average Public Transport Accessibility score, 2014                                                  33 non-null float64\n",
      "Achievement of 5 or more A*- C grades at GCSE or equivalent including English and Maths, 2013/14    33 non-null float64\n",
      "Rates of Children Looked After (2016)                                                               33 non-null float64\n",
      "% of pupils whose first language is not English (2015)                                              33 non-null object\n",
      "% children living in out-of-work households (2015)                                                  33 non-null float64\n",
      "Male life expectancy, (2012-14)                                                                     33 non-null object\n",
      "Female life expectancy, (2012-14)                                                                   33 non-null object\n",
      "Teenage conception rate (2014)                                                                      33 non-null object\n",
      "Life satisfaction score 2011-14 (out of 10)                                                         33 non-null float64\n",
      "Worthwhileness score 2011-14 (out of 10)                                                            33 non-null float64\n",
      "Happiness score 2011-14 (out of 10)                                                                 33 non-null float64\n",
      "Anxiety score 2011-14 (out of 10)                                                                   33 non-null float64\n",
      "Childhood Obesity Prevalance (%) 2015/16                                                            33 non-null object\n",
      "People aged 17+ with diabetes (%)                                                                   33 non-null float64\n",
      "Mortality rate from causes considered preventable 2012/14                                           33 non-null float64\n",
      "Political control in council                                                                        33 non-null object\n",
      "Proportion of seats won by Conservatives in 2014 election                                           33 non-null object\n",
      "Proportion of seats won by Labour in 2014 election                                                  33 non-null object\n",
      "Proportion of seats won by Lib Dems in 2014 election                                                33 non-null object\n",
      "Turnout at 2014 local elections                                                                     33 non-null object\n",
      "dtypes: float64(44), object(41)\n",
      "memory usage: 22.7+ KB\n"
     ]
    }
   ],
   "source": [
    "import pandas as pd\n",
    "import numpy as np\n",
    "import matplotlib.pyplot as plt\n",
    "df = pd.read_csv('london-borough-profiles-jan2018.csv', encoding = 'unicode_escape')\n",
    "df.head()\n",
    "df.info()"
   ]
  },
  {
   "cell_type": "code",
   "execution_count": 15,
   "metadata": {},
   "outputs": [
    {
     "ename": "TypeError",
     "evalue": "no numeric data to plot",
     "output_type": "error",
     "traceback": [
      "\u001b[0;31m---------------------------------------------------------------------------\u001b[0m",
      "\u001b[0;31mTypeError\u001b[0m                                 Traceback (most recent call last)",
      "\u001b[0;32m<ipython-input-15-a7322d110b68>\u001b[0m in \u001b[0;36m<module>\u001b[0;34m\u001b[0m\n\u001b[0;32m----> 1\u001b[0;31m \u001b[0mdf\u001b[0m\u001b[0;34m.\u001b[0m\u001b[0mplot\u001b[0m\u001b[0;34m(\u001b[0m\u001b[0mx\u001b[0m\u001b[0;34m=\u001b[0m \u001b[0;34m'Male life expectancy, (2012-14)'\u001b[0m\u001b[0;34m,\u001b[0m \u001b[0my\u001b[0m\u001b[0;34m=\u001b[0m \u001b[0;34m'Female life expectancy, (2012-14)'\u001b[0m\u001b[0;34m,\u001b[0m \u001b[0mstyle\u001b[0m\u001b[0;34m=\u001b[0m\u001b[0;34m'o'\u001b[0m\u001b[0;34m)\u001b[0m\u001b[0;34m\u001b[0m\u001b[0;34m\u001b[0m\u001b[0m\n\u001b[0m",
      "\u001b[0;32m/usr/lib/python3/dist-packages/pandas/plotting/_core.py\u001b[0m in \u001b[0;36m__call__\u001b[0;34m(self, *args, **kwargs)\u001b[0m\n\u001b[1;32m    792\u001b[0m                     \u001b[0mdata\u001b[0m\u001b[0;34m.\u001b[0m\u001b[0mcolumns\u001b[0m \u001b[0;34m=\u001b[0m \u001b[0mlabel_name\u001b[0m\u001b[0;34m\u001b[0m\u001b[0;34m\u001b[0m\u001b[0m\n\u001b[1;32m    793\u001b[0m \u001b[0;34m\u001b[0m\u001b[0m\n\u001b[0;32m--> 794\u001b[0;31m         \u001b[0;32mreturn\u001b[0m \u001b[0mplot_backend\u001b[0m\u001b[0;34m.\u001b[0m\u001b[0mplot\u001b[0m\u001b[0;34m(\u001b[0m\u001b[0mdata\u001b[0m\u001b[0;34m,\u001b[0m \u001b[0mkind\u001b[0m\u001b[0;34m=\u001b[0m\u001b[0mkind\u001b[0m\u001b[0;34m,\u001b[0m \u001b[0;34m**\u001b[0m\u001b[0mkwargs\u001b[0m\u001b[0;34m)\u001b[0m\u001b[0;34m\u001b[0m\u001b[0;34m\u001b[0m\u001b[0m\n\u001b[0m\u001b[1;32m    795\u001b[0m \u001b[0;34m\u001b[0m\u001b[0m\n\u001b[1;32m    796\u001b[0m     \u001b[0;32mdef\u001b[0m \u001b[0mline\u001b[0m\u001b[0;34m(\u001b[0m\u001b[0mself\u001b[0m\u001b[0;34m,\u001b[0m \u001b[0mx\u001b[0m\u001b[0;34m=\u001b[0m\u001b[0;32mNone\u001b[0m\u001b[0;34m,\u001b[0m \u001b[0my\u001b[0m\u001b[0;34m=\u001b[0m\u001b[0;32mNone\u001b[0m\u001b[0;34m,\u001b[0m \u001b[0;34m**\u001b[0m\u001b[0mkwargs\u001b[0m\u001b[0;34m)\u001b[0m\u001b[0;34m:\u001b[0m\u001b[0;34m\u001b[0m\u001b[0;34m\u001b[0m\u001b[0m\n",
      "\u001b[0;32m/usr/lib/python3/dist-packages/pandas/plotting/_matplotlib/__init__.py\u001b[0m in \u001b[0;36mplot\u001b[0;34m(data, kind, **kwargs)\u001b[0m\n\u001b[1;32m     60\u001b[0m             \u001b[0mkwargs\u001b[0m\u001b[0;34m[\u001b[0m\u001b[0;34m\"ax\"\u001b[0m\u001b[0;34m]\u001b[0m \u001b[0;34m=\u001b[0m \u001b[0mgetattr\u001b[0m\u001b[0;34m(\u001b[0m\u001b[0max\u001b[0m\u001b[0;34m,\u001b[0m \u001b[0;34m\"left_ax\"\u001b[0m\u001b[0;34m,\u001b[0m \u001b[0max\u001b[0m\u001b[0;34m)\u001b[0m\u001b[0;34m\u001b[0m\u001b[0;34m\u001b[0m\u001b[0m\n\u001b[1;32m     61\u001b[0m     \u001b[0mplot_obj\u001b[0m \u001b[0;34m=\u001b[0m \u001b[0mPLOT_CLASSES\u001b[0m\u001b[0;34m[\u001b[0m\u001b[0mkind\u001b[0m\u001b[0;34m]\u001b[0m\u001b[0;34m(\u001b[0m\u001b[0mdata\u001b[0m\u001b[0;34m,\u001b[0m \u001b[0;34m**\u001b[0m\u001b[0mkwargs\u001b[0m\u001b[0;34m)\u001b[0m\u001b[0;34m\u001b[0m\u001b[0;34m\u001b[0m\u001b[0m\n\u001b[0;32m---> 62\u001b[0;31m     \u001b[0mplot_obj\u001b[0m\u001b[0;34m.\u001b[0m\u001b[0mgenerate\u001b[0m\u001b[0;34m(\u001b[0m\u001b[0;34m)\u001b[0m\u001b[0;34m\u001b[0m\u001b[0;34m\u001b[0m\u001b[0m\n\u001b[0m\u001b[1;32m     63\u001b[0m     \u001b[0mplot_obj\u001b[0m\u001b[0;34m.\u001b[0m\u001b[0mdraw\u001b[0m\u001b[0;34m(\u001b[0m\u001b[0;34m)\u001b[0m\u001b[0;34m\u001b[0m\u001b[0;34m\u001b[0m\u001b[0m\n\u001b[1;32m     64\u001b[0m     \u001b[0;32mreturn\u001b[0m \u001b[0mplot_obj\u001b[0m\u001b[0;34m.\u001b[0m\u001b[0mresult\u001b[0m\u001b[0;34m\u001b[0m\u001b[0;34m\u001b[0m\u001b[0m\n",
      "\u001b[0;32m/usr/lib/python3/dist-packages/pandas/plotting/_matplotlib/core.py\u001b[0m in \u001b[0;36mgenerate\u001b[0;34m(self)\u001b[0m\n\u001b[1;32m    277\u001b[0m     \u001b[0;32mdef\u001b[0m \u001b[0mgenerate\u001b[0m\u001b[0;34m(\u001b[0m\u001b[0mself\u001b[0m\u001b[0;34m)\u001b[0m\u001b[0;34m:\u001b[0m\u001b[0;34m\u001b[0m\u001b[0;34m\u001b[0m\u001b[0m\n\u001b[1;32m    278\u001b[0m         \u001b[0mself\u001b[0m\u001b[0;34m.\u001b[0m\u001b[0m_args_adjust\u001b[0m\u001b[0;34m(\u001b[0m\u001b[0;34m)\u001b[0m\u001b[0;34m\u001b[0m\u001b[0;34m\u001b[0m\u001b[0m\n\u001b[0;32m--> 279\u001b[0;31m         \u001b[0mself\u001b[0m\u001b[0;34m.\u001b[0m\u001b[0m_compute_plot_data\u001b[0m\u001b[0;34m(\u001b[0m\u001b[0;34m)\u001b[0m\u001b[0;34m\u001b[0m\u001b[0;34m\u001b[0m\u001b[0m\n\u001b[0m\u001b[1;32m    280\u001b[0m         \u001b[0mself\u001b[0m\u001b[0;34m.\u001b[0m\u001b[0m_setup_subplots\u001b[0m\u001b[0;34m(\u001b[0m\u001b[0;34m)\u001b[0m\u001b[0;34m\u001b[0m\u001b[0;34m\u001b[0m\u001b[0m\n\u001b[1;32m    281\u001b[0m         \u001b[0mself\u001b[0m\u001b[0;34m.\u001b[0m\u001b[0m_make_plot\u001b[0m\u001b[0;34m(\u001b[0m\u001b[0;34m)\u001b[0m\u001b[0;34m\u001b[0m\u001b[0;34m\u001b[0m\u001b[0m\n",
      "\u001b[0;32m/usr/lib/python3/dist-packages/pandas/plotting/_matplotlib/core.py\u001b[0m in \u001b[0;36m_compute_plot_data\u001b[0;34m(self)\u001b[0m\n\u001b[1;32m    412\u001b[0m         \u001b[0;31m# no non-numeric frames or series allowed\u001b[0m\u001b[0;34m\u001b[0m\u001b[0;34m\u001b[0m\u001b[0;34m\u001b[0m\u001b[0m\n\u001b[1;32m    413\u001b[0m         \u001b[0;32mif\u001b[0m \u001b[0mis_empty\u001b[0m\u001b[0;34m:\u001b[0m\u001b[0;34m\u001b[0m\u001b[0;34m\u001b[0m\u001b[0m\n\u001b[0;32m--> 414\u001b[0;31m             \u001b[0;32mraise\u001b[0m \u001b[0mTypeError\u001b[0m\u001b[0;34m(\u001b[0m\u001b[0;34m\"no numeric data to plot\"\u001b[0m\u001b[0;34m)\u001b[0m\u001b[0;34m\u001b[0m\u001b[0;34m\u001b[0m\u001b[0m\n\u001b[0m\u001b[1;32m    415\u001b[0m \u001b[0;34m\u001b[0m\u001b[0m\n\u001b[1;32m    416\u001b[0m         \u001b[0;31m# GH25587: cast ExtensionArray of pandas (IntegerArray, etc.) to\u001b[0m\u001b[0;34m\u001b[0m\u001b[0;34m\u001b[0m\u001b[0;34m\u001b[0m\u001b[0m\n",
      "\u001b[0;31mTypeError\u001b[0m: no numeric data to plot"
     ]
    }
   ],
   "source": [
    "df.plot(x= 'Male life expectancy, (2012-14)', y= 'Female life expectancy, (2012-14)', style='o')"
   ]
  },
  {
   "cell_type": "code",
   "execution_count": null,
   "metadata": {},
   "outputs": [],
   "source": []
  }
 ],
 "metadata": {
  "kernelspec": {
   "display_name": "Python 3",
   "language": "python",
   "name": "python3"
  },
  "language_info": {
   "codemirror_mode": {
    "name": "ipython",
    "version": 3
   },
   "file_extension": ".py",
   "mimetype": "text/x-python",
   "name": "python",
   "nbconvert_exporter": "python",
   "pygments_lexer": "ipython3",
   "version": "3.8.10"
  }
 },
 "nbformat": 4,
 "nbformat_minor": 4
}
